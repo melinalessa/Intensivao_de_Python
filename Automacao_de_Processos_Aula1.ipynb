{
  "nbformat": 4,
  "nbformat_minor": 0,
  "metadata": {
    "colab": {
      "provenance": [],
      "authorship_tag": "ABX9TyNMM4zj7ypYwOemXeYllSKJ",
      "include_colab_link": true
    },
    "kernelspec": {
      "name": "python3",
      "display_name": "Python 3"
    },
    "language_info": {
      "name": "python"
    }
  },
  "cells": [
    {
      "cell_type": "markdown",
      "metadata": {
        "id": "view-in-github",
        "colab_type": "text"
      },
      "source": [
        "<a href=\"https://colab.research.google.com/github/melinalessa/Intensivao_de_Python/blob/main/Automacao_de_Processos_Aula1.ipynb\" target=\"_parent\"><img src=\"https://colab.research.google.com/assets/colab-badge.svg\" alt=\"Open In Colab\"/></a>"
      ]
    },
    {
      "cell_type": "code",
      "source": [
        "#primeiro instalar a biblioteca de automacao\n",
        "#!pip install pyautogui"
      ],
      "metadata": {
        "colab": {
          "base_uri": "https://localhost:8080/"
        },
        "id": "fZbtLb5hsDlY",
        "outputId": "703b1b75-2c89-4786-eefa-3ffbd7175282"
      },
      "execution_count": 6,
      "outputs": [
        {
          "output_type": "stream",
          "name": "stdout",
          "text": [
            "Looking in indexes: https://pypi.org/simple, https://us-python.pkg.dev/colab-wheels/public/simple/\n",
            "Requirement already satisfied: pyautogui in /usr/local/lib/python3.10/dist-packages (0.9.53)\n",
            "Requirement already satisfied: pymsgbox in /usr/local/lib/python3.10/dist-packages (from pyautogui) (1.0.9)\n",
            "Requirement already satisfied: PyTweening>=1.0.1 in /usr/local/lib/python3.10/dist-packages (from pyautogui) (1.0.7)\n",
            "Requirement already satisfied: pyscreeze>=0.1.21 in /usr/local/lib/python3.10/dist-packages (from pyautogui) (0.1.28)\n",
            "Requirement already satisfied: pygetwindow>=0.0.5 in /usr/local/lib/python3.10/dist-packages (from pyautogui) (0.0.9)\n",
            "Requirement already satisfied: mouseinfo in /usr/local/lib/python3.10/dist-packages (from pyautogui) (0.1.3)\n",
            "Requirement already satisfied: python3-Xlib in /usr/local/lib/python3.10/dist-packages (from pyautogui) (0.15)\n",
            "Requirement already satisfied: pyrect in /usr/local/lib/python3.10/dist-packages (from pygetwindow>=0.0.5->pyautogui) (0.2.0)\n",
            "Requirement already satisfied: pyperclip in /usr/local/lib/python3.10/dist-packages (from mouseinfo->pyautogui) (1.8.2)\n"
          ]
        }
      ]
    },
    {
      "cell_type": "code",
      "source": [
        "import pyautogui\n",
        "import time\n",
        "\n",
        "#pyautogui.click -> clicar com o mouse\n",
        "#pyautogui.write -> escrever texto\n",
        "#pyautogui.press - > aperta uma unica tecla\n",
        "#pyautogui.hotkey - > aperta um conjunto de teclas\n",
        "\n",
        "pyautogui.PAUSE = 1\n",
        "\n",
        "#Planejando o Processo - Aula I\n",
        "\n",
        "#Passo 1: Acessar o sistema da empresa\n",
        "pyautogui.hotkey(\"ctrl\", \"t\")\n",
        "\n",
        "pyautogui.write(\"https://pages.hashtagtreinamentos.com/aula1-intensivao-sistema\")\n",
        "\n",
        "pyautogui.press(\"enter\")\n",
        "time.sleep(5)\n",
        "\n",
        "#Passo 2: Fazer Login no Sitema\n",
        "pyautogui.click(x=745, y=369) #Posicao login\n",
        "pyautogui.write(\"meu login\")\n",
        "\n",
        "pyautogui.click(x=653, y=451) #Posicao Senha\n",
        "pyautogui.write(\"minha senha\")\n",
        "\n",
        "pyautogui.click(x=648, y=517) #Posição botao enter\n",
        "\n",
        "time.sleep(5)\n",
        "\n",
        "#Passo 3: Baixar a base de dados\n",
        "pyautogui.click(x=1260, y=341)\n",
        "pyautogui.click(x=1015, y=565)\n",
        "\n",
        "time.sleep(5)"
      ],
      "metadata": {
        "id": "dxEXa8L7L805"
      },
      "execution_count": null,
      "outputs": []
    },
    {
      "cell_type": "code",
      "source": [
        "#Passo 4: Calcular os indicadores\n",
        "\n",
        "#importar a base de dados\n",
        "import pandas as pd\n",
        "\n",
        "df = pd.read_csv(r\"C:\\Users\\lessa\\Downloads\\Compras.csv\", sep=\";\")\n",
        "print(df)\n",
        "\n",
        "#total de gastos -> somar a coluna valor final\n",
        "total_gasto = df[\"ValorFinal\"].sum()\n",
        "\n",
        "#quantidade -> somar a coluna preco medio\n",
        "quant = df[\"Quantidade\"].sum()\n",
        "\n",
        "#preco medio -> total gasto / quantidade\n",
        "preco_medio = total_gasto / quant\n",
        "\n",
        "print(total_gasto)\n",
        "print(quant)\n",
        "print(preco_medio)"
      ],
      "metadata": {
        "id": "J3YFR7drMLGf"
      },
      "execution_count": null,
      "outputs": []
    },
    {
      "cell_type": "code",
      "source": [
        "import pyperclip\n",
        "\n",
        "#Passo 5: Enviar o email para a diretoria\n",
        "#abrir uma aba\n",
        "pyautogui.hotkey(\"ctrl\", \"t\")\n",
        "\n",
        "#entrar no email\n",
        "pyautogui.write(\"https://mail.google.com/mail/u/0/#inbox\")\n",
        "pyautogui.press(\"enter\")\n",
        "\n",
        "time.sleep(5)\n",
        "\n",
        "#clicar em escrever\n",
        "pyautogui.click(x=67, y=205)\n",
        "\n",
        "#preencher o para\n",
        "pyautogui.write(\"contato@mellessarep.com\")\n",
        "pyautogui.press(\"tab\")\n",
        "\n",
        "#preencher Assunto\n",
        "pyautogui.press(\"tab\")\n",
        "pyperclip.copy(\"Relatório de Compras\")\n",
        "pyautogui.hotkey(\"ctrl\", \"v\")\n",
        "\n",
        "#preencher o Corpo do email\n",
        "pyautogui.press(\"tab\")\n",
        "\n",
        "texto = f\"\"\"\n",
        "Bom dia,\n",
        "\n",
        "Segue o relatório atualizado;\n",
        "\n",
        "Total de Gasto: R${total_gasto:,.2f} #, = milhar e .2 casas decimais float=numero com casa decimal\n",
        "Quantidade de Produtos: R$ {quant:,}\n",
        "Preço Médio: R$ {preco_medio:,.2f}\n",
        "\n",
        "Melina Lessa\n",
        "\n",
        "\"\"\"\n",
        "pyperclip.copy(texto)\n",
        "pyautogui.hotkey(\"ctrl\", \"v\")\n",
        "\n",
        "#abrir o campo inserir anexo\n",
        "pyautogui.click(x=961, y=688)\n",
        "pyautogui.write(r\"C:\\Users\\lessa\\Downloads\\Compras.csv\")\n",
        "\n",
        "pyautogui.click(x=868, y=611)\n",
        "\n",
        "\n",
        "#enviar\n",
        "pyautogui.hotkey(\"ctrl\",\"enter\")"
      ],
      "metadata": {
        "id": "zV0963WmMQE1"
      },
      "execution_count": null,
      "outputs": []
    },
    {
      "cell_type": "code",
      "source": [
        "#contador da posicao aonde deve clicar\n",
        "time.sleep(5)\n",
        "print(pyautogui.position())"
      ],
      "metadata": {
        "id": "2lJSj40zMXlj"
      },
      "execution_count": null,
      "outputs": []
    }
  ]
}