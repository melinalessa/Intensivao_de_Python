{
  "nbformat": 4,
  "nbformat_minor": 0,
  "metadata": {
    "colab": {
      "provenance": [],
      "authorship_tag": "ABX9TyOkFhpSfXm4FOU6zac/U98T",
      "include_colab_link": true
    },
    "kernelspec": {
      "name": "python3",
      "display_name": "Python 3"
    },
    "language_info": {
      "name": "python"
    }
  },
  "cells": [
    {
      "cell_type": "markdown",
      "metadata": {
        "id": "view-in-github",
        "colab_type": "text"
      },
      "source": [
        "<a href=\"https://colab.research.google.com/github/melinalessa/Intensivao_de_Python/blob/main/Analise_de_Dados.ipynb\" target=\"_parent\"><img src=\"https://colab.research.google.com/assets/colab-badge.svg\" alt=\"Open In Colab\"/></a>"
      ]
    },
    {
      "cell_type": "markdown",
      "source": [
        "# Análise de Dados com Python\n",
        "\n",
        "### Desafio:\n",
        "\n",
        "# Você trabalha em uma empresa do varejo e tem milhares de clientes diferentes.\n",
        "\n",
        "# Com o objetivo de aumentar o faturamento e o lucro da sua empresa, a diretoria quer conseguir identificar quem é o cliente ideal para seus produtos, baseado no histórico de compras dos clientes.\n",
        "\n",
        "# Para isso, ela fez um trabalho de classificar os clientes com uma nota de 1 a 100. Só que agora, sobrou para você conseguir, a partir dessa nota, descobrir qual o perfil de cliente ideal da empresa.\n",
        "\n",
        "# Qual a profissão? Qual a idade? Qual a faixa de renda? E todas as informações que você puder analisar para dizer qual o cliente ideal da empresa.\n",
        "\n",
        "# Base de Dados: https://drive.google.com/drive/folders/1T7D0BlWkNuy_MDpUHuBG44kT80EmRYIs?usp=share_link"
      ],
      "metadata": {
        "id": "cjaGeQH009T9"
      }
    },
    {
      "cell_type": "code",
      "source": [
        "# passo 1: importar a base de dados\n",
        "import pandas as pd\n",
        "\n",
        "df = pd.read_csv(\"clientes.csv\", encoding=\"latin\", sep=\";\")\n",
        "\n",
        "# Deletar coluna desnecessaria\n",
        "#axis= 1 coluna/ axis= 2 linha\n",
        "\n",
        "df = df.drop(\"Unnamed: 8\", axis=1)\n",
        "\n",
        "# passo 2: visualizar a base de dados\n",
        "display(df)"
      ],
      "metadata": {
        "id": "tTY76KKR1AWx"
      },
      "execution_count": null,
      "outputs": []
    },
    {
      "cell_type": "code",
      "source": [
        "# passo 3: tratamento de dados\n",
        "\n",
        "#alterar os Dtype\n",
        "#coerce pra mudar as celular em branco em NAN, usado junto com o numeric\n",
        "\n",
        "df[\"Salário Anual (R$)\"] = pd.to_numeric(df[\"Salário Anual (R$)\"], errors=\"coerce\")\n",
        "\n",
        "#tratar valores vazios\n",
        "\n",
        "df = df.dropna()\n",
        "\n",
        "print(df.info())"
      ],
      "metadata": {
        "id": "sGW0bg-Q1Qdf"
      },
      "execution_count": null,
      "outputs": []
    },
    {
      "cell_type": "code",
      "source": [
        "# passo 4: analise inicial - entender como estao as notas dos clientes\n",
        "display(df.describe())"
      ],
      "metadata": {
        "id": "eopkTv8rGMxL"
      },
      "execution_count": null,
      "outputs": []
    },
    {
      "cell_type": "code",
      "source": [
        "# passo 5: analise mais completa - tracar o perfil ideal e entender cada caracteristica que impacta na nota\n",
        "import plotly.express as px\n",
        "\n",
        "for coluna in df.columns:\n",
        "    #cria o grafico\n",
        "    grafico= px.histogram(df, x= coluna, y=\"Nota (1-100)\", histfunc=\"avg\", text_auto=True, nbins=10)\n",
        "\n",
        "    #exibe o grafico\n",
        "    grafico.show()"
      ],
      "metadata": {
        "id": "NKkfeuS2GRNl"
      },
      "execution_count": null,
      "outputs": []
    },
    {
      "cell_type": "markdown",
      "source": [
        "# Perfil Ideal\n",
        "# 1. Acima de 10 anos\n",
        "# 2. O salário nao influencia nas vendas\n",
        "# 3. Nosso público melhor é enternetimento e artistas\n",
        "# 4. Clientes com melhor desempenho possuem acima de 10 e 15 anos de experiencia de profissao\n",
        "# 5. Famílias até 7 pessoas"
      ],
      "metadata": {
        "id": "WjXCUquKGaMj"
      }
    },
    {
      "cell_type": "code",
      "source": [
        "!pip install plotly"
      ],
      "metadata": {
        "id": "MqRqqS-0GV6k"
      },
      "execution_count": null,
      "outputs": []
    },
    {
      "cell_type": "markdown",
      "source": [],
      "metadata": {
        "id": "vK1nRNKV07_q"
      }
    }
  ]
}